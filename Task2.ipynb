{
 "cells": [
  {
   "cell_type": "markdown",
   "metadata": {},
   "source": [
    "### Task 2: Trinary Classification"
   ]
  },
  {
   "cell_type": "code",
   "execution_count": 47,
   "metadata": {},
   "outputs": [
    {
     "name": "stdout",
     "output_type": "stream",
     "text": [
      "1.7.0\n"
     ]
    }
   ],
   "source": [
    "import tensorflow as tf\n",
    "import numpy as np\n",
    "import pandas as pd\n",
    "import matplotlib.pyplot as plt\n",
    "from sklearn.model_selection import train_test_split\n",
    "\n",
    "print(tf.__version__)"
   ]
  },
  {
   "cell_type": "code",
   "execution_count": 48,
   "metadata": {},
   "outputs": [],
   "source": [
    "#Load data\n",
    "df = pd.read_csv('./train.csv')\n",
    "#df.head(5)\n",
    "\n",
    "df_test = pd.read_csv('./test.csv')\n",
    "X_test = df_test._drop_axis(['Id'], axis=1)\n",
    "#X_test.head(5)"
   ]
  },
  {
   "cell_type": "code",
   "execution_count": 49,
   "metadata": {},
   "outputs": [],
   "source": [
    "features = df.columns.values[2:df.shape[1]]"
   ]
  },
  {
   "cell_type": "code",
   "execution_count": 50,
   "metadata": {},
   "outputs": [],
   "source": [
    "num_features = features.shape[0]"
   ]
  },
  {
   "cell_type": "code",
   "execution_count": 51,
   "metadata": {},
   "outputs": [
    {
     "name": "stdout",
     "output_type": "stream",
     "text": [
      "['Id' 'y' 'x1' 'x2' 'x3' 'x4' 'x5' 'x6' 'x7' 'x8' 'x9' 'x10' 'x11' 'x12'\n",
      " 'x13' 'x14' 'x15' 'x16']\n"
     ]
    }
   ],
   "source": [
    "print(df.columns.values)"
   ]
  },
  {
   "cell_type": "code",
   "execution_count": 52,
   "metadata": {},
   "outputs": [
    {
     "data": {
      "text/plain": [
       "<function matplotlib.pyplot.show>"
      ]
     },
     "execution_count": 52,
     "metadata": {},
     "output_type": "execute_result"
    },
    {
     "data": {
      "image/png": "[encoded data removed]",
      "text/plain": [
       "<Figure size 432x288 with 1 Axes>"
      ]
     },
     "metadata": {},
     "output_type": "display_data"
    }
   ],
   "source": [
    "#manipulate and format data\n",
    "X = df.loc[:, features].as_matrix()\n",
    "y = df.loc[:, 'y'].as_matrix()\n",
    "\n",
    "#plt.hist(y)\n",
    "#plt.show"
   ]
  },
  {
   "cell_type": "code",
   "execution_count": 53,
   "metadata": {},
   "outputs": [],
   "source": [
    "#Set hyperparameters\n",
    "rate = .1\n",
    "epochs = 1500\n",
    "display_step = 500\n",
    "n = y.size\n",
    "\n",
    "#Randomly split into training and test\n",
    "#X_train, X_test, y_train, y_test = train_test_split(X, y, test_size=.25, random_state=42)\n",
    "#X_train = np.array(X_train)\n",
    "#X_test = np.array(X_test)\n",
    "#y_train = np.array(y_train)\n",
    "#y_test = np.array(y_test)\n",
    "\n",
    "X = np.array(X)\n",
    "y = np.array(y)"
   ]
  },
  {
   "cell_type": "code",
   "execution_count": 54,
   "metadata": {},
   "outputs": [
    {
     "name": "stdout",
     "output_type": "stream",
     "text": [
      "INFO:tensorflow:Using default config.\n",
      "WARNING:tensorflow:Using temporary folder as model directory: C:\\Users\\GRANTG~1\\AppData\\Local\\Temp\\tmpyzyvg6ib\n",
      "INFO:tensorflow:Using config: {'_model_dir': 'C:\\\\Users\\\\GRANTG~1\\\\AppData\\\\Local\\\\Temp\\\\tmpyzyvg6ib', '_tf_random_seed': None, '_save_summary_steps': 100, '_save_checkpoints_steps': None, '_save_checkpoints_secs': 600, '_session_config': None, '_keep_checkpoint_max': 5, '_keep_checkpoint_every_n_hours': 10000, '_log_step_count_steps': 100, '_service': None, '_cluster_spec': <tensorflow.python.training.server_lib.ClusterSpec object at 0x0000019930714BE0>, '_task_type': 'worker', '_task_id': 0, '_global_id_in_cluster': 0, '_master': '', '_evaluation_master': '', '_is_chief': True, '_num_ps_replicas': 0, '_num_worker_replicas': 1}\n",
      "INFO:tensorflow:Calling model_fn.\n",
      "INFO:tensorflow:Done calling model_fn.\n",
      "INFO:tensorflow:Create CheckpointSaverHook.\n",
      "INFO:tensorflow:Graph was finalized.\n",
      "INFO:tensorflow:Running local_init_op.\n",
      "INFO:tensorflow:Done running local_init_op.\n",
      "INFO:tensorflow:Saving checkpoints for 1 into C:\\Users\\GRANTG~1\\AppData\\Local\\Temp\\tmpyzyvg6ib\\model.ckpt.\n",
      "INFO:tensorflow:loss = 1046.3944, step = 1\n",
      "INFO:tensorflow:global_step/sec: 173.281\n",
      "INFO:tensorflow:loss = 121.534424, step = 101 (0.580 sec)\n",
      "INFO:tensorflow:global_step/sec: 219.655\n",
      "INFO:tensorflow:loss = 83.03109, step = 201 (0.454 sec)\n",
      "INFO:tensorflow:global_step/sec: 233.783\n",
      "INFO:tensorflow:loss = 110.517876, step = 301 (0.428 sec)\n",
      "INFO:tensorflow:global_step/sec: 207.673\n",
      "INFO:tensorflow:loss = 65.326416, step = 401 (0.481 sec)\n",
      "INFO:tensorflow:global_step/sec: 203.878\n",
      "INFO:tensorflow:loss = 46.81492, step = 501 (0.490 sec)\n",
      "INFO:tensorflow:global_step/sec: 217.485\n",
      "INFO:tensorflow:loss = 41.74323, step = 601 (0.461 sec)\n",
      "INFO:tensorflow:global_step/sec: 204.736\n",
      "INFO:tensorflow:loss = 38.976475, step = 701 (0.488 sec)\n",
      "INFO:tensorflow:global_step/sec: 211.836\n",
      "INFO:tensorflow:loss = 36.42299, step = 801 (0.473 sec)\n",
      "INFO:tensorflow:global_step/sec: 205.122\n",
      "INFO:tensorflow:loss = 75.347, step = 901 (0.486 sec)\n",
      "INFO:tensorflow:global_step/sec: 215.113\n",
      "INFO:tensorflow:loss = 24.459785, step = 1001 (0.464 sec)\n",
      "INFO:tensorflow:global_step/sec: 208.612\n",
      "INFO:tensorflow:loss = 22.972763, step = 1101 (0.480 sec)\n",
      "INFO:tensorflow:global_step/sec: 212.156\n",
      "INFO:tensorflow:loss = 22.454754, step = 1201 (0.471 sec)\n",
      "INFO:tensorflow:global_step/sec: 208.519\n",
      "INFO:tensorflow:loss = 22.792421, step = 1301 (0.480 sec)\n",
      "INFO:tensorflow:global_step/sec: 211.348\n",
      "INFO:tensorflow:loss = 24.217602, step = 1401 (0.473 sec)\n",
      "INFO:tensorflow:Saving checkpoints for 1500 into C:\\Users\\GRANTG~1\\AppData\\Local\\Temp\\tmpyzyvg6ib\\model.ckpt.\n",
      "INFO:tensorflow:Loss for final step: 19.466705.\n",
      "fit done\n"
     ]
    }
   ],
   "source": [
    "#Deep Neural Network, hopefully don't overfit\n",
    "feature_cols = [tf.feature_column.numeric_column(\"features\", shape=[num_features])]\n",
    "classifier = tf.estimator.DNNClassifier(feature_columns=feature_cols,\n",
    "                                       n_classes=3,\n",
    "                                       hidden_units=[100,150,200,100])\n",
    "\n",
    "#specific pandas input_fn\n",
    "train_input_fn = tf.estimator.inputs.numpy_input_fn(\n",
    "            x={\"features\": X},\n",
    "            y=y,\n",
    "            num_epochs=epochs,\n",
    "            shuffle=False)\n",
    "\n",
    "classifier.train(input_fn=train_input_fn, steps=epochs)\n",
    "print('fit done')\n",
    "\n",
    "#Define test inputs\n",
    "#test_input_fn = tf.estimator.inputs.numpy_input_fn(\n",
    "               # x={\"features\": X_test},\n",
    "               # y=y_test,\n",
    "               # num_epochs=epochs,\n",
    "               # shuffle=False)\n",
    "\n",
    "#TODO: use model to make prediction on test set                \n",
    "                \n",
    "#Calculate accuracy\n",
    "#accuracy_score = classifier.evaluate(input_fn=test_input_fn, steps=100)[\"accuracy\"]\n",
    "#print('\\nAccuracy: {0:f}'.format(accuracy_score))\n"
   ]
  },
  {
   "cell_type": "code",
   "execution_count": 36,
   "metadata": {},
   "outputs": [
    {
     "ename": "NameError",
     "evalue": "name 'y_' is not defined",
     "output_type": "error",
     "traceback": [
      "\u001b[1;31m---------------------------------------------------------------------------\u001b[0m",
      "\u001b[1;31mNameError\u001b[0m                                 Traceback (most recent call last)",
      "\u001b[1;32m<ipython-input-36-45c7d5792b80>\u001b[0m in \u001b[0;36m<module>\u001b[1;34m()\u001b[0m\n\u001b[0;32m      1\u001b[0m \u001b[1;31m#Define cost and optimization\u001b[0m\u001b[1;33m\u001b[0m\u001b[1;33m\u001b[0m\u001b[0m\n\u001b[1;32m----> 2\u001b[1;33m \u001b[0mcost\u001b[0m \u001b[1;33m=\u001b[0m \u001b[0mtf\u001b[0m\u001b[1;33m.\u001b[0m\u001b[0mreduce_sum\u001b[0m\u001b[1;33m(\u001b[0m\u001b[0mtf\u001b[0m\u001b[1;33m.\u001b[0m\u001b[0mpow\u001b[0m\u001b[1;33m(\u001b[0m\u001b[0my_\u001b[0m \u001b[1;33m-\u001b[0m \u001b[0my\u001b[0m\u001b[1;33m,\u001b[0m \u001b[1;36m2\u001b[0m\u001b[1;33m)\u001b[0m\u001b[1;33m)\u001b[0m\u001b[1;33m/\u001b[0m\u001b[1;33m(\u001b[0m\u001b[1;36m2\u001b[0m\u001b[1;33m*\u001b[0m\u001b[0mn\u001b[0m\u001b[1;33m)\u001b[0m\u001b[1;33m\u001b[0m\u001b[0m\n\u001b[0m\u001b[0;32m      3\u001b[0m \u001b[1;33m\u001b[0m\u001b[0m\n\u001b[0;32m      4\u001b[0m \u001b[0moptimizer\u001b[0m \u001b[1;33m=\u001b[0m \u001b[0mtf\u001b[0m\u001b[1;33m.\u001b[0m\u001b[0mtrain\u001b[0m\u001b[1;33m.\u001b[0m\u001b[0mGradientDescentOptimizer\u001b[0m\u001b[1;33m(\u001b[0m\u001b[0mrate\u001b[0m\u001b[1;33m)\u001b[0m\u001b[1;33m.\u001b[0m\u001b[0mminimize\u001b[0m\u001b[1;33m(\u001b[0m\u001b[0mcost\u001b[0m\u001b[1;33m)\u001b[0m\u001b[1;33m\u001b[0m\u001b[0m\n",
      "\u001b[1;31mNameError\u001b[0m: name 'y_' is not defined"
     ]
    }
   ],
   "source": [
    "#Define cost and optimization\n",
    "cost = tf.reduce_sum(tf.pow(y_ - y, 2))/(2*n)\n",
    "\n",
    "optimizer = tf.train.GradientDescentOptimizer(rate).minimize(cost)"
   ]
  },
  {
   "cell_type": "code",
   "execution_count": null,
   "metadata": {},
   "outputs": [],
   "source": [
    "#Set up session\n",
    "init = tf.global_variables_initializer()\n",
    "sess = tf.Session()\n",
    "sess.run(init)\n",
    "\n",
    "print(x.shape, inputX.shape, y_.shape, inputY.shape)"
   ]
  },
  {
   "cell_type": "code",
   "execution_count": null,
   "metadata": {},
   "outputs": [],
   "source": [
    "#Train\n",
    "\n",
    "for i in range(epochs):\n",
    "    sess.run(optimizer, feed_dict={x: inputX, y_: inputY})\n",
    "    \n",
    "    #log\n",
    "    if (i) % display_step == 0:\n",
    "        cc = sess.run(cost, feed_dict={x: inputX, y_:inputY})\n",
    "        print(\"Training step:\", '%04d' % (i), \"cost=\", \"{:.9f}\".format(cc)) \n",
    "print(\"Optimization Finished!\")\n",
    "training_cost = sess.run(cost, feed_dict={x: inputX, y_: inputY})\n",
    "print(\"Training cost=\", training_cost, \"W=\", sess.run(W), \"b=\", sess.run(b), '\\n')"
   ]
  },
  {
   "cell_type": "code",
   "execution_count": null,
   "metadata": {},
   "outputs": [],
   "source": []
  }
 ],
 "metadata": {
  "kernelspec": {
   "display_name": "Python 3",
   "language": "python",
   "name": "python3"
  },
  "language_info": {
   "codemirror_mode": {
    "name": "ipython",
    "version": 3
   },
   "file_extension": ".py",
   "mimetype": "text/x-python",
   "name": "python",
   "nbconvert_exporter": "python",
   "pygments_lexer": "ipython3",
   "version": "3.6.4"
  }
 },
 "nbformat": 4,
 "nbformat_minor": 2
}
